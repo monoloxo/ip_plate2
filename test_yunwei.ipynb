{
 "cells": [
  {
   "cell_type": "code",
   "execution_count": 3,
   "metadata": {},
   "outputs": [
    {
     "name": "stdout",
     "output_type": "stream",
     "text": [
      "2\n",
      "3\n",
      "4\n",
      "5\n",
      "6\n",
      "7\n",
      "8\n",
      "9\n",
      "10\n",
      "11\n",
      "12\n"
     ]
    }
   ],
   "source": [
    "for i in range(1,12):\n",
    "    #print(i)\n",
    "    pi = i+1\n",
    "    print(pi)"
   ]
  },
  {
   "cell_type": "code",
   "execution_count": 4,
   "metadata": {},
   "outputs": [
    {
     "name": "stdout",
     "output_type": "stream",
     "text": [
      "/home/mf/yolo2019/ip_plate2/id1.lock\n",
      "/home/mf/yolo2019/ip_plate2/id2.lock\n",
      "/home/mf/yolo2019/ip_plate2/id3.lock\n",
      "/home/mf/yolo2019/ip_plate2/id4.lock\n",
      "/home/mf/yolo2019/ip_plate2/id5.lock\n",
      "/home/mf/yolo2019/ip_plate2/id6.lock\n",
      "/home/mf/yolo2019/ip_plate2/id7.lock\n",
      "/home/mf/yolo2019/ip_plate2/id8.lock\n",
      "/home/mf/yolo2019/ip_plate2/id9.lock\n",
      "/home/mf/yolo2019/ip_plate2/id10.lock\n",
      "/home/mf/yolo2019/ip_plate2/id11.lock\n"
     ]
    }
   ],
   "source": [
    "for i in range(1,12):\n",
    "    \n",
    "    process = \"/home/mf/yolo2019/ip_plate2/id%d.lock\" % i\n",
    "    print(process)"
   ]
  },
  {
   "cell_type": "code",
   "execution_count": null,
   "metadata": {
    "collapsed": true
   },
   "outputs": [],
   "source": []
  }
 ],
 "metadata": {
  "kernelspec": {
   "display_name": "Python 3",
   "language": "python",
   "name": "python3"
  },
  "language_info": {
   "codemirror_mode": {
    "name": "ipython",
    "version": 3
   },
   "file_extension": ".py",
   "mimetype": "text/x-python",
   "name": "python",
   "nbconvert_exporter": "python",
   "pygments_lexer": "ipython3",
   "version": "3.6.2"
  }
 },
 "nbformat": 4,
 "nbformat_minor": 2
}
